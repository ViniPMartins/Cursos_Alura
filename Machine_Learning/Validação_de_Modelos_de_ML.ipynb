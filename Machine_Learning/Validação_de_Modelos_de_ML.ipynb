{
  "nbformat": 4,
  "nbformat_minor": 0,
  "metadata": {
    "colab": {
      "name": "Validação de Modelos de ML.ipynb",
      "provenance": []
    },
    "kernelspec": {
      "name": "python3",
      "display_name": "Python 3"
    }
  },
  "cells": [
    {
      "cell_type": "markdown",
      "metadata": {
        "id": "xuY3rO8-TU9l",
        "colab_type": "text"
      },
      "source": [
        "# Aula 1 - Validação cruzada e aleatoriedade inicial"
      ]
    },
    {
      "cell_type": "code",
      "metadata": {
        "id": "rWFuDiU_TIPw",
        "colab_type": "code",
        "colab": {}
      },
      "source": [
        "import pandas as pd\n",
        "\n",
        "uri = \"https://gist.githubusercontent.com/guilhermesilveira/e99a526b2e7ccc6c3b70f53db43a87d2/raw/1605fc74aa778066bf2e6695e24d53cf65f2f447/machine-learning-carros-simulacao.csv\"\n",
        "\n",
        "dados = pd.read_csv(uri).drop(columns=[\"Unnamed: 0\"], axis=1)"
      ],
      "execution_count": 2,
      "outputs": []
    },
    {
      "cell_type": "markdown",
      "metadata": {
        "id": "9H0z67pdYLwX",
        "colab_type": "text"
      },
      "source": [
        "Cross-Validation - Espécie de validação que replica a separação dos dados de treino e de teste diversas vezes afim de minimizar o efeito da aleatóriedade nos modelos. \n",
        "\n",
        "K-fold - separa um número K de dados para teste e testa K vezes o modelo, podendo assim tirar a média de acurácia dos testes\n",
        "\n",
        "Leave One Out - separa um único valor dos dados para teste e testa o modelo para cada valor separadamente."
      ]
    },
    {
      "cell_type": "code",
      "metadata": {
        "id": "CLufGirgbe3R",
        "colab_type": "code",
        "colab": {
          "base_uri": "https://localhost:8080/",
          "height": 35
        },
        "outputId": "3f017b96-8d9e-4fa1-abc9-dbfee2b3cfc3"
      },
      "source": [
        "from sklearn.model_selection import train_test_split\n",
        "import numpy as np\n",
        "\n",
        "x = dados[['preco', 'idade_do_modelo', 'km_por_ano']]\n",
        "y = dados['vendido']\n",
        "\n",
        "SEED = 5\n",
        "np.random.seed(SEED)\n",
        "\n",
        "treino_x, teste_x, treino_y, teste_y = train_test_split(x, y, test_size=0.25, stratify=y) # Stratify = Divide os dados de x e y de acordo com a proporção dos dados y, que foi passado como parametro\n",
        "\n",
        "print(f'Será treinado com {len(treino_y)} elementos e testado com {len(teste_y)}')"
      ],
      "execution_count": 7,
      "outputs": [
        {
          "output_type": "stream",
          "text": [
            "Será treinado com 7500 elementos e testado com 2500\n"
          ],
          "name": "stdout"
        }
      ]
    },
    {
      "cell_type": "code",
      "metadata": {
        "id": "-yjnjAzzdhLV",
        "colab_type": "code",
        "colab": {
          "base_uri": "https://localhost:8080/",
          "height": 70
        },
        "outputId": "c5c7cbb2-d4cf-47cd-f864-4ed66ca49a7d"
      },
      "source": [
        "from sklearn.dummy import DummyClassifier\n",
        "\n",
        "SEED = 158020\n",
        "np.random.seed(SEED)\n",
        "\n",
        "dummy_stratifier = DummyClassifier( )\n",
        "dummy_stratifier.fit(treino_x, treino_y)\n",
        "acuracia_dummy = dummy_stratifier.score(teste_x, teste_y) * 100\n",
        "\n",
        "print('A acurácia foi de %.2f%%' % acuracia_dummy)"
      ],
      "execution_count": 22,
      "outputs": [
        {
          "output_type": "stream",
          "text": [
            "A acurácia foi de 50.96%\n"
          ],
          "name": "stdout"
        },
        {
          "output_type": "stream",
          "text": [
            "/usr/local/lib/python3.6/dist-packages/sklearn/dummy.py:132: FutureWarning: The default value of strategy will change from stratified to prior in 0.24.\n",
            "  \"stratified to prior in 0.24.\", FutureWarning)\n"
          ],
          "name": "stderr"
        }
      ]
    },
    {
      "cell_type": "code",
      "metadata": {
        "id": "uNSMaBnQei12",
        "colab_type": "code",
        "colab": {
          "base_uri": "https://localhost:8080/",
          "height": 35
        },
        "outputId": "1202be1a-b3d6-41e1-919f-6ea942953fdd"
      },
      "source": [
        "from sklearn.tree import DecisionTreeClassifier\n",
        "from sklearn.metrics import accuracy_score\n",
        "\n",
        "SEED = 355\n",
        "np.random.seed(SEED)\n",
        "\n",
        "modelo = DecisionTreeClassifier(max_depth=2)\n",
        "modelo.fit(treino_x, treino_y)\n",
        "previsoes = modelo.predict(teste_x)\n",
        "\n",
        "acuracia = accuracy_score(teste_y, previsoes) * 100\n",
        "print('Acuracia foi de %.2f%%' % acuracia)"
      ],
      "execution_count": 28,
      "outputs": [
        {
          "output_type": "stream",
          "text": [
            "Acuracia foi de 76.84%\n"
          ],
          "name": "stdout"
        }
      ]
    },
    {
      "cell_type": "markdown",
      "metadata": {
        "id": "kDNpfiODgUKa",
        "colab_type": "text"
      },
      "source": [
        "Fazendo modelo com Cross_Validation"
      ]
    },
    {
      "cell_type": "code",
      "metadata": {
        "id": "cWVa1hcHl_I1",
        "colab_type": "code",
        "colab": {}
      },
      "source": [
        "def imprime_resultados(results):\n",
        "    media = results['test_score'].mean()\n",
        "    desvio_padrao = results['test_score'].std()\n",
        "    print('Acurácia média %.2f' % (media * 100))\n",
        "    print('O intervalo de confiança deste modelo é entre %.2f, %.2f' % ((media - 2 * desvio_padrao)*100, (media + 2 * desvio_padrao)*100))"
      ],
      "execution_count": 50,
      "outputs": []
    },
    {
      "cell_type": "code",
      "metadata": {
        "id": "L9PkmBWLfm8e",
        "colab_type": "code",
        "colab": {
          "base_uri": "https://localhost:8080/",
          "height": 52
        },
        "outputId": "32aae914-80c9-4bd1-d077-2cea0bf62c0a"
      },
      "source": [
        "from sklearn.model_selection import cross_validate\n",
        "\n",
        "SEED = 5\n",
        "np.random.seed(SEED)\n",
        "\n",
        "modelo = DecisionTreeClassifier(max_depth=2)\n",
        "results = cross_validate(modelo, x, y, cv=5, return_train_score=False)\n",
        "imprime_resultados(results)"
      ],
      "execution_count": 51,
      "outputs": [
        {
          "output_type": "stream",
          "text": [
            "Acurácia média 75.78\n",
            "O intervalo de confiança deste modelo é entre 75.21, 76.35\n"
          ],
          "name": "stdout"
        }
      ]
    },
    {
      "cell_type": "markdown",
      "metadata": {
        "id": "NnCognIAj6Or",
        "colab_type": "text"
      },
      "source": [
        "#Aula 2 - KFold e aleatoriedade"
      ]
    },
    {
      "cell_type": "markdown",
      "metadata": {
        "id": "fTMnuedj2iGo",
        "colab_type": "text"
      },
      "source": [
        "Utilizando o módulo KFold é possivel implantar a aleatóriedade na separação dos dados, ao invés de separa-los por grupos fixos"
      ]
    },
    {
      "cell_type": "code",
      "metadata": {
        "id": "NKtutfyUkBUU",
        "colab_type": "code",
        "colab": {
          "base_uri": "https://localhost:8080/",
          "height": 52
        },
        "outputId": "5022b291-a49c-4f4f-e259-709dbef6c068"
      },
      "source": [
        "from sklearn.model_selection import KFold\n",
        "\n",
        "SEED = 158135\n",
        "np.random.seed(SEED)\n",
        "\n",
        "cv = KFold(n_splits=10, shuffle=True)\n",
        "modelo = DecisionTreeClassifier(max_depth=2)\n",
        "results = cross_validate(modelo, x, y, cv=cv, return_train_score=False)\n",
        "imprime_resultados(results)"
      ],
      "execution_count": 52,
      "outputs": [
        {
          "output_type": "stream",
          "text": [
            "Acurácia média 75.78\n",
            "O intervalo de confiança deste modelo é entre 73.50, 78.06\n"
          ],
          "name": "stdout"
        }
      ]
    },
    {
      "cell_type": "markdown",
      "metadata": {
        "id": "kGfzDfODnLFT",
        "colab_type": "text"
      },
      "source": [
        "# Aula 03 - Estratificação"
      ]
    },
    {
      "cell_type": "markdown",
      "metadata": {
        "id": "PQmjI7_x2zuF",
        "colab_type": "text"
      },
      "source": [
        "Caso seja necessario separar os dados de acordo com a proporção da distribuição deles no dataset (como foi usado como parâmetro no train_teste_split deste notebook), podemos usar a biblioteca StratifiedKFold, que seleciona grupos de dados considerando suas proporções no dataset."
      ]
    },
    {
      "cell_type": "code",
      "metadata": {
        "id": "IlWnJTGMnKT2",
        "colab_type": "code",
        "colab": {
          "base_uri": "https://localhost:8080/",
          "height": 52
        },
        "outputId": "47cdf18f-b7a9-4cda-9dee-09a86774d8b9"
      },
      "source": [
        "from sklearn.model_selection import StratifiedKFold\n",
        "\n",
        "SEED = 158135\n",
        "np.random.seed(SEED)\n",
        "\n",
        "cv = StratifiedKFold(n_splits=10, shuffle=True)\n",
        "modelo = DecisionTreeClassifier(max_depth=2)\n",
        "results = cross_validate(modelo, x, y, cv=cv, return_train_score=False)\n",
        "imprime_resultados(results)"
      ],
      "execution_count": 53,
      "outputs": [
        {
          "output_type": "stream",
          "text": [
            "Acurácia média 75.78\n",
            "O intervalo de confiança deste modelo é entre 73.87, 77.69\n"
          ],
          "name": "stdout"
        }
      ]
    },
    {
      "cell_type": "markdown",
      "metadata": {
        "id": "XihNBI_FxYI3",
        "colab_type": "text"
      },
      "source": [
        "IMPORTANTE - A ideia é que a validação cruzada num conjunto de dados somente diz o que você pode esperar. Ela não treina o seu modelo final.\n",
        "Para treinar realmente é preciso fazer um fit do modelo:\n",
        "\n",
        "\n",
        "```\n",
        "modelo.fit(x, y)\n",
        "```\n",
        "\n"
      ]
    },
    {
      "cell_type": "markdown",
      "metadata": {
        "id": "yUP5S75-uUfn",
        "colab_type": "text"
      },
      "source": [
        "# Aula 4 - Dados Agrupáveis"
      ]
    },
    {
      "cell_type": "markdown",
      "metadata": {
        "id": "_vG-sEb13pxu",
        "colab_type": "text"
      },
      "source": [
        "É possivel também fazer o cross validation considerando que os dados podem ter agrupamentos diferentes. No exemplo abaixo, é acrescentado uma coluna 'modelo', simulando um agrupamento dos dados por modelo do carro"
      ]
    },
    {
      "cell_type": "code",
      "metadata": {
        "id": "M1S0yMJZueka",
        "colab_type": "code",
        "colab": {
          "base_uri": "https://localhost:8080/",
          "height": 200
        },
        "outputId": "cb9e597e-89fd-44bf-bae1-da4c549db23a"
      },
      "source": [
        "np.random.seed(SEED)\n",
        "np.random.randint(-2,2)\n",
        "\n",
        "dados['modelo'] = dados.idade_do_modelo + np.random.randint(-2,2, size=10000)\n",
        "dados.modelo = dados.modelo + abs(dados.modelo.min()) + 1\n",
        "dados.head()"
      ],
      "execution_count": 57,
      "outputs": [
        {
          "output_type": "execute_result",
          "data": {
            "text/html": [
              "<div>\n",
              "<style scoped>\n",
              "    .dataframe tbody tr th:only-of-type {\n",
              "        vertical-align: middle;\n",
              "    }\n",
              "\n",
              "    .dataframe tbody tr th {\n",
              "        vertical-align: top;\n",
              "    }\n",
              "\n",
              "    .dataframe thead th {\n",
              "        text-align: right;\n",
              "    }\n",
              "</style>\n",
              "<table border=\"1\" class=\"dataframe\">\n",
              "  <thead>\n",
              "    <tr style=\"text-align: right;\">\n",
              "      <th></th>\n",
              "      <th>preco</th>\n",
              "      <th>vendido</th>\n",
              "      <th>idade_do_modelo</th>\n",
              "      <th>km_por_ano</th>\n",
              "      <th>modelo</th>\n",
              "    </tr>\n",
              "  </thead>\n",
              "  <tbody>\n",
              "    <tr>\n",
              "      <th>0</th>\n",
              "      <td>30941.02</td>\n",
              "      <td>1</td>\n",
              "      <td>18</td>\n",
              "      <td>35085.22134</td>\n",
              "      <td>21</td>\n",
              "    </tr>\n",
              "    <tr>\n",
              "      <th>1</th>\n",
              "      <td>40557.96</td>\n",
              "      <td>1</td>\n",
              "      <td>20</td>\n",
              "      <td>12622.05362</td>\n",
              "      <td>23</td>\n",
              "    </tr>\n",
              "    <tr>\n",
              "      <th>2</th>\n",
              "      <td>89627.50</td>\n",
              "      <td>0</td>\n",
              "      <td>12</td>\n",
              "      <td>11440.79806</td>\n",
              "      <td>13</td>\n",
              "    </tr>\n",
              "    <tr>\n",
              "      <th>3</th>\n",
              "      <td>95276.14</td>\n",
              "      <td>0</td>\n",
              "      <td>3</td>\n",
              "      <td>43167.32682</td>\n",
              "      <td>4</td>\n",
              "    </tr>\n",
              "    <tr>\n",
              "      <th>4</th>\n",
              "      <td>117384.68</td>\n",
              "      <td>1</td>\n",
              "      <td>4</td>\n",
              "      <td>12770.11290</td>\n",
              "      <td>5</td>\n",
              "    </tr>\n",
              "  </tbody>\n",
              "</table>\n",
              "</div>"
            ],
            "text/plain": [
              "       preco  vendido  idade_do_modelo   km_por_ano  modelo\n",
              "0   30941.02        1               18  35085.22134      21\n",
              "1   40557.96        1               20  12622.05362      23\n",
              "2   89627.50        0               12  11440.79806      13\n",
              "3   95276.14        0                3  43167.32682       4\n",
              "4  117384.68        1                4  12770.11290       5"
            ]
          },
          "metadata": {
            "tags": []
          },
          "execution_count": 57
        }
      ]
    },
    {
      "cell_type": "code",
      "metadata": {
        "id": "nHeEkvU3zAjP",
        "colab_type": "code",
        "colab": {
          "base_uri": "https://localhost:8080/",
          "height": 52
        },
        "outputId": "2bc20576-c819-4e69-bc18-6c0496c8c313"
      },
      "source": [
        "from sklearn.model_selection import GroupKFold\n",
        "\n",
        "SEED = 301\n",
        "np.random.seed(SEED)\n",
        "\n",
        "cv = GroupKFold(n_splits=10)\n",
        "modelo = DecisionTreeClassifier(max_depth=2)\n",
        "results = cross_validate(modelo, x, y, cv=cv, groups=dados.modelo, return_train_score=False)\n",
        "imprime_resultados(results)"
      ],
      "execution_count": 59,
      "outputs": [
        {
          "output_type": "stream",
          "text": [
            "Acurácia média 75.78\n",
            "O intervalo de confiança deste modelo é entre 70.97, 80.60\n"
          ],
          "name": "stdout"
        }
      ]
    },
    {
      "cell_type": "markdown",
      "metadata": {
        "id": "j6UC5umwzedl",
        "colab_type": "text"
      },
      "source": [
        "# Aula 5 - Pipeline de treino e validação"
      ]
    },
    {
      "cell_type": "markdown",
      "metadata": {
        "id": "VBd3qsYI4XVX",
        "colab_type": "text"
      },
      "source": [
        "Por fim, quando precisamos re-escalar os dados para alguns modelos como o SVC (que é sensível a escala diferente dos dados), fazemos o seguinte:"
      ]
    },
    {
      "cell_type": "code",
      "metadata": {
        "id": "OR1_1mJIzcl9",
        "colab_type": "code",
        "colab": {
          "base_uri": "https://localhost:8080/",
          "height": 35
        },
        "outputId": "7afb52e1-686a-46cc-8e5c-449e45081fdc"
      },
      "source": [
        "from sklearn.preprocessing import StandardScaler\n",
        "from sklearn.svm import SVC\n",
        "\n",
        "SEED = 301\n",
        "np.random.seed(SEED)\n",
        "\n",
        "scaller = StandardScaler()\n",
        "scaller.fit(treino_x)\n",
        "treino_x_scaller = scaller.transform(treino_x)\n",
        "teste_x_scaller = scaller.transform(teste_x)\n",
        "\n",
        "modelo = SVC()\n",
        "modelo.fit(treino_x_scaller, treino_y)\n",
        "previsoes = modelo.predict(teste_x_scaller)\n",
        "\n",
        "acuracia = accuracy_score(teste_y, previsoes) * 100\n",
        "print('Acuracia foi de %.2f%%' % acuracia)"
      ],
      "execution_count": 61,
      "outputs": [
        {
          "output_type": "stream",
          "text": [
            "Acuracia foi de 77.48%\n"
          ],
          "name": "stdout"
        }
      ]
    },
    {
      "cell_type": "markdown",
      "metadata": {
        "id": "8CQWDXuv4nOu",
        "colab_type": "text"
      },
      "source": [
        "Porém, para usar o cross validate, não podemos escalar os dados só uma vez, pois escalamos apenas com os dados de treino, logo, como os dados de treino estão sendo alterados a todo momento no cross validate, temos que alterar o StandartScaller a cada novo cross validate.\n",
        "\n",
        "Para isso usamos o método pipeline que, a cada vez que é feita a separação pelo cross validate, é feito também o standartscaler e rodado o modelo sobre os novos dados separados"
      ]
    },
    {
      "cell_type": "code",
      "metadata": {
        "id": "R486e2hq1HJd",
        "colab_type": "code",
        "colab": {
          "base_uri": "https://localhost:8080/",
          "height": 52
        },
        "outputId": "77a4d64b-1437-4fc5-d132-e64977b75b96"
      },
      "source": [
        "from sklearn.pipeline import Pipeline\n",
        "\n",
        "SEED = 301\n",
        "np.random.seed(SEED)\n",
        "\n",
        "scaller = StandardScaler()\n",
        "modelo = SVC()\n",
        "\n",
        "pipeline = Pipeline([('transformacao',scaller), ('estimador', modelo)])\n",
        "\n",
        "cv = GroupKFold(n_splits=10)\n",
        "modelo = DecisionTreeClassifier(max_depth=2)\n",
        "results = cross_validate(pipeline, x, y, cv=cv, groups = dados.modelo, return_train_score=False)\n",
        "imprime_resultados(results)"
      ],
      "execution_count": 63,
      "outputs": [
        {
          "output_type": "stream",
          "text": [
            "Acurácia média 76.72\n",
            "O intervalo de confiança deste modelo é entre 71.98, 81.46\n"
          ],
          "name": "stdout"
        }
      ]
    }
  ]
}